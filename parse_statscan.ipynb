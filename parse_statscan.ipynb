{
 "cells": [
  {
   "cell_type": "code",
   "execution_count": 1,
   "metadata": {},
   "outputs": [
    {
     "name": "stderr",
     "output_type": "stream",
     "text": [
      "/home/kchou/anaconda3/lib/python3.7/site-packages/dask/config.py:168: YAMLLoadWarning: calling yaml.load() without Loader=... is deprecated, as the default Loader is unsafe. Please read https://msg.pyyaml.org/load for full details.\n",
      "  data = yaml.load(f.read()) or {}\n"
     ]
    }
   ],
   "source": [
    "import pandas as pd\n",
    "import dask.dataframe as dd"
   ]
  },
  {
   "cell_type": "code",
   "execution_count": 2,
   "metadata": {},
   "outputs": [],
   "source": [
    "def parse_columns(df, cols):\n",
    "    \"\"\"Parses columns for a groupby-ed df\"\"\"\n",
    "    cnt = df[cols]\n",
    "\n",
    "    cnt = cnt.T\n",
    "    cnt = cnt.reset_index(drop=True)\n",
    "    cnt.columns = cnt.iloc[0]           # set first row to header\n",
    "    cnt = cnt.drop(cnt.index[0])  # drop first row\n",
    "    \n",
    "    # create column for totals by sex\n",
    "    if cols[1].endswith('Sex'):\n",
    "        cnt.index =['Total']\n",
    "    if cols[1].endswith('Male'):\n",
    "        cnt.index =['Male']\n",
    "    if cols[1].endswith('Female'):\n",
    "        cnt.index =['Female']\n",
    "    \n",
    "    cnt.columns = range(len(cnt.columns))\n",
    "    return cnt"
   ]
  },
  {
   "cell_type": "code",
   "execution_count": 3,
   "metadata": {},
   "outputs": [],
   "source": [
    "def parse_group(df, dim):\n",
    "    total = parse_columns(df, [dim, 'Dim: Sex (3): Member ID: [1]: Total - Sex'])\n",
    "    male = parse_columns(df, [dim, 'Dim: Sex (3): Member ID: [2]: Male'])\n",
    "    female = parse_columns(df, [dim, 'Dim: Sex (3): Member ID: [3]: Female'])\n",
    "\n",
    "    unioned = pd.concat([total, male, female])\n",
    "    return unioned"
   ]
  },
  {
   "cell_type": "code",
   "execution_count": 4,
   "metadata": {},
   "outputs": [],
   "source": [
    "def parse_census_profile(df, dask=False):\n",
    "    cols = df.columns\n",
    "    \n",
    "    # Get item to groupby on\n",
    "    level = [s for s in df.columns if s.startswith('DIM:')][0] \n",
    "    #count_dim = [s for s in df.columns if s.startswith('Dim:')]\n",
    "    \n",
    "    # Map integers to column names\n",
    "    column_map = {i:v for i,v in enumerate(df.loc[df.GEO_NAME == 'Canada', level].tolist())}\n",
    "    \n",
    "    if dask:\n",
    "        df = dd.from_pandas(df, npartitions=20)\n",
    "        parsed_df = df.groupby(['GEO_CODE (POR)', 'GEO_NAME']).apply(parse_group, level, meta={i:object for i in range(2247)}).compute()\n",
    "    else:\n",
    "        parsed_df = df.groupby(['GEO_CODE (POR)', 'GEO_NAME']).apply(parse_group, level)\n",
    "        \n",
    "    parsed_df = parsed_df.rename(columns=column_map)\n",
    "    \n",
    "    return parsed_df"
   ]
  },
  {
   "cell_type": "markdown",
   "metadata": {},
   "source": [
    "# FED"
   ]
  },
  {
   "cell_type": "code",
   "execution_count": 5,
   "metadata": {},
   "outputs": [],
   "source": [
    "df = pd.read_csv(\"98-401-X2016045_English_CSV_data.csv\", low_memory=False)"
   ]
  },
  {
   "cell_type": "code",
   "execution_count": 6,
   "metadata": {},
   "outputs": [],
   "source": [
    "fed = parse_census_profile(df)"
   ]
  },
  {
   "cell_type": "code",
   "execution_count": 7,
   "metadata": {},
   "outputs": [],
   "source": [
    "fed2 = parse_census_profile(df, dask=True)"
   ]
  },
  {
   "cell_type": "markdown",
   "metadata": {},
   "source": [
    "### Census Tract"
   ]
  },
  {
   "cell_type": "code",
   "execution_count": 8,
   "metadata": {},
   "outputs": [],
   "source": [
    "ct = pd.read_csv('98-401-X2016043_English_CSV_data.csv', low_memory=False)"
   ]
  },
  {
   "cell_type": "code",
   "execution_count": 9,
   "metadata": {},
   "outputs": [],
   "source": [
    "ctp = parse_census_profile(ct, dask=True)"
   ]
  },
  {
   "cell_type": "markdown",
   "metadata": {},
   "source": [
    "# dissemination area"
   ]
  },
  {
   "cell_type": "code",
   "execution_count": 5,
   "metadata": {},
   "outputs": [],
   "source": [
    "import os"
   ]
  },
  {
   "cell_type": "code",
   "execution_count": 6,
   "metadata": {},
   "outputs": [],
   "source": [
    "files_dir = 'da'\n",
    "files = [f'{files_dir}/' + f for f in os.listdir(files_dir)]"
   ]
  },
  {
   "cell_type": "code",
   "execution_count": 7,
   "metadata": {},
   "outputs": [
    {
     "data": {
      "text/plain": [
       "['da/98-401-X2016044_ATLANTIC_English_CSV_data.csv',\n",
       " 'da/98-401-X2016044_TERRITORIES_English_CSV_data.csv']"
      ]
     },
     "execution_count": 7,
     "metadata": {},
     "output_type": "execute_result"
    }
   ],
   "source": [
    "files"
   ]
  },
  {
   "cell_type": "code",
   "execution_count": 15,
   "metadata": {},
   "outputs": [
    {
     "name": "stderr",
     "output_type": "stream",
     "text": [
      "/home/kchou/anaconda3/lib/python3.7/site-packages/IPython/core/interactiveshell.py:3049: DtypeWarning: Columns (3) have mixed types. Specify dtype option on import or set low_memory=False.\n",
      "  interactivity=interactivity, compiler=compiler, result=result)\n"
     ]
    }
   ],
   "source": [
    "df = pd.read_csv(files[0])"
   ]
  },
  {
   "cell_type": "code",
   "execution_count": 16,
   "metadata": {},
   "outputs": [
    {
     "name": "stdout",
     "output_type": "stream",
     "text": [
      "CPU times: user 2min 43s, sys: 1min 41s, total: 4min 24s\n",
      "Wall time: 2min 47s\n"
     ]
    }
   ],
   "source": [
    "%time da_t = parse_census_profile(df, dask=True)"
   ]
  },
  {
   "cell_type": "code",
   "execution_count": 17,
   "metadata": {},
   "outputs": [
    {
     "name": "stdout",
     "output_type": "stream",
     "text": [
      "CPU times: user 1min 36s, sys: 11.3 s, total: 1min 47s\n",
      "Wall time: 1min 45s\n"
     ]
    }
   ],
   "source": [
    "%time da_t2 = parse_census_profile(df, dask=False)"
   ]
  },
  {
   "cell_type": "code",
   "execution_count": 32,
   "metadata": {},
   "outputs": [
    {
     "name": "stdout",
     "output_type": "stream",
     "text": [
      "CPU times: user 0 ns, sys: 0 ns, total: 0 ns\n",
      "Wall time: 24.6 µs\n"
     ]
    }
   ],
   "source": []
  },
  {
   "cell_type": "code",
   "execution_count": null,
   "metadata": {},
   "outputs": [],
   "source": [
    "\n",
    "1"
   ]
  },
  {
   "cell_type": "code",
   "execution_count": null,
   "metadata": {},
   "outputs": [],
   "source": []
  }
 ],
 "metadata": {
  "kernelspec": {
   "display_name": "Python 3",
   "language": "python",
   "name": "python3"
  },
  "language_info": {
   "codemirror_mode": {
    "name": "ipython",
    "version": 3
   },
   "file_extension": ".py",
   "mimetype": "text/x-python",
   "name": "python",
   "nbconvert_exporter": "python",
   "pygments_lexer": "ipython3",
   "version": "3.7.3"
  }
 },
 "nbformat": 4,
 "nbformat_minor": 4
}
